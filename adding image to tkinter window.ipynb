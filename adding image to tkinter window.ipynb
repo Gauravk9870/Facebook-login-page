{
 "cells": [
  {
   "cell_type": "code",
   "execution_count": 2,
   "metadata": {},
   "outputs": [],
   "source": [
    "import tkinter\n",
    "from tkinter import *\n",
    "from PIL import Image, ImageTk\n",
    "\n",
    "# Creating a window\n",
    "root = Tk()\n",
    "\n",
    "#defining the size of window\n",
    "root.geometry(\"1000x800\")\n",
    "\n",
    "# Creating a photoimgage object of the image in the path\n",
    "\n",
    "img = Image.open(\"C:/Users/ASUS/PycharmProjects/GUI Projects/youLogo.png\")\n",
    "loading_img = ImageTk.PhotoImage(img)\n",
    "\n",
    "# image is ready to show\n",
    "ready_to_show = Label(root, image=loading_img)\n",
    "\n",
    "# placing image by giving its coordinates x and y\n",
    "ready_to_show.place(x=100, y=100)\n",
    "\n",
    "mainloop()"
   ]
  },
  {
   "cell_type": "code",
   "execution_count": null,
   "metadata": {},
   "outputs": [],
   "source": []
  }
 ],
 "metadata": {
  "kernelspec": {
   "display_name": "Python 3",
   "language": "python",
   "name": "python3"
  },
  "language_info": {
   "codemirror_mode": {
    "name": "ipython",
    "version": 3
   },
   "file_extension": ".py",
   "mimetype": "text/x-python",
   "name": "python",
   "nbconvert_exporter": "python",
   "pygments_lexer": "ipython3",
   "version": "3.8.5"
  }
 },
 "nbformat": 4,
 "nbformat_minor": 4
}
